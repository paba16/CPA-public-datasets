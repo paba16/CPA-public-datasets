{
 "cells": [
  {
   "cell_type": "code",
   "execution_count": null,
   "id": "fb545c64",
   "metadata": {},
   "outputs": [],
   "source": [
    "import scipy\n",
    "import numpy as np\n",
    "import torch\n",
    "import logging\n",
    "import matplotlib.pyplot as plt\n",
    "\n",
    "ftype = torch.float32\n",
    "logging.basicConfig(level=logging.INFO)\n",
    "logger = logging.getLogger(__name__)"
   ]
  },
  {
   "cell_type": "code",
   "execution_count": 2,
   "id": "d50eeb82",
   "metadata": {},
   "outputs": [],
   "source": [
    "s_box = [\n",
    "    0x63, 0x7c, 0x77, 0x7b, 0xf2, 0x6b, 0x6f, 0xc5, 0x30, 0x01, 0x67, 0x2b, 0xfe, 0xd7, 0xab, 0x76,\n",
    "    0xca, 0x82, 0xc9, 0x7d, 0xfa, 0x59, 0x47, 0xf0, 0xad, 0xd4, 0xa2, 0xaf, 0x9c, 0xa4, 0x72, 0xc0,\n",
    "    0xb7, 0xfd, 0x93, 0x26, 0x36, 0x3f, 0xf7, 0xcc, 0x34, 0xa5, 0xe5, 0xf1, 0x71, 0xd8, 0x31, 0x15,\n",
    "    0x04, 0xc7, 0x23, 0xc3, 0x18, 0x96, 0x05, 0x9a, 0x07, 0x12, 0x80, 0xe2, 0xeb, 0x27, 0xb2, 0x75,\n",
    "    0x09, 0x83, 0x2c, 0x1a, 0x1b, 0x6e, 0x5a, 0xa0, 0x52, 0x3b, 0xd6, 0xb3, 0x29, 0xe3, 0x2f, 0x84,\n",
    "    0x53, 0xd1, 0x00, 0xed, 0x20, 0xfc, 0xb1, 0x5b, 0x6a, 0xcb, 0xbe, 0x39, 0x4a, 0x4c, 0x58, 0xcf,\n",
    "    0xd0, 0xef, 0xaa, 0xfb, 0x43, 0x4d, 0x33, 0x85, 0x45, 0xf9, 0x02, 0x7f, 0x50, 0x3c, 0x9f, 0xa8,\n",
    "    0x51, 0xa3, 0x40, 0x8f, 0x92, 0x9d, 0x38, 0xf5, 0xbc, 0xb6, 0xda, 0x21, 0x10, 0xff, 0xf3, 0xd2,\n",
    "    0xcd, 0x0c, 0x13, 0xec, 0x5f, 0x97, 0x44, 0x17, 0xc4, 0xa7, 0x7e, 0x3d, 0x64, 0x5d, 0x19, 0x73,\n",
    "    0x60, 0x81, 0x4f, 0xdc, 0x22, 0x2a, 0x90, 0x88, 0x46, 0xee, 0xb8, 0x14, 0xde, 0x5e, 0x0b, 0xdb,\n",
    "    0xe0, 0x32, 0x3a, 0x0a, 0x49, 0x06, 0x24, 0x5c, 0xc2, 0xd3, 0xac, 0x62, 0x91, 0x95, 0xe4, 0x79,\n",
    "    0xe7, 0xc8, 0x37, 0x6d, 0x8d, 0xd5, 0x4e, 0xa9, 0x6c, 0x56, 0xf4, 0xea, 0x65, 0x7a, 0xae, 0x08,\n",
    "    0xba, 0x78, 0x25, 0x2e, 0x1c, 0xa6, 0xb4, 0xc6, 0xe8, 0xdd, 0x74, 0x1f, 0x4b, 0xbd, 0x8b, 0x8a,\n",
    "    0x70, 0x3e, 0xb5, 0x66, 0x48, 0x03, 0xf6, 0x0e, 0x61, 0x35, 0x57, 0xb9, 0x86, 0xc1, 0x1d, 0x9e,\n",
    "    0xe1, 0xf8, 0x98, 0x11, 0x69, 0xd9, 0x8e, 0x94, 0x9b, 0x1e, 0x87, 0xe9, 0xce, 0x55, 0x28, 0xdf,\n",
    "    0x8c, 0xa1, 0x89, 0x0d, 0xbf, 0xe6, 0x42, 0x68, 0x41, 0x99, 0x2d, 0x0f, 0xb0, 0x54, 0xbb, 0x16\n",
    "]\n",
    "s_box_tensor = torch.tensor(s_box, dtype=torch.int32)\n",
    "hamming_weight = torch.tensor([np.bitwise_count(i) for i in range(256)], dtype=ftype)\n",
    "key = [0x2b, 0x7e, 0x15, 0x16, 0x28, 0xae, 0xd2, 0xa6,\n",
    "       0xab, 0xf7, 0x15, 0x88, 0x09, 0xcf, 0x4f, 0x3c]"
   ]
  },
  {
   "cell_type": "markdown",
   "id": "c6cde947",
   "metadata": {},
   "source": [
    "Dataset from:\n",
    "https://github.com/ikizhvatov/randomdelays-traces/tree/master?tab=readme-ov-file"
   ]
  },
  {
   "cell_type": "code",
   "execution_count": 3,
   "id": "63e2910d",
   "metadata": {},
   "outputs": [
    {
     "data": {
      "text/plain": [
       "dict_keys(['__header__', '__version__', '__globals__', 'CompressedTraces', 'plaintext'])"
      ]
     },
     "execution_count": 3,
     "metadata": {},
     "output_type": "execute_result"
    }
   ],
   "source": [
    "f = scipy.io.loadmat(\"randomdelays/ctraces_fm16x4_2.mat\")\n",
    "f.keys()"
   ]
  },
  {
   "cell_type": "code",
   "execution_count": 4,
   "id": "76eb6b23",
   "metadata": {},
   "outputs": [
    {
     "data": {
      "text/plain": [
       "(torch.Size([50000, 16]),\n",
       " tensor([[201, 204,  39,  ..., 110,   7, 107],\n",
       "         [165, 147, 225,  ...,  17, 250, 213],\n",
       "         [ 40,  81,  70,  ..., 106, 228,   1],\n",
       "         ...,\n",
       "         [112,  40,  29,  ...,  54, 206, 105],\n",
       "         [ 22,  16,  45,  ..., 164, 108,  63],\n",
       "         [213, 237, 251,  ..., 198,  87,  66]], dtype=torch.int32))"
      ]
     },
     "execution_count": 4,
     "metadata": {},
     "output_type": "execute_result"
    }
   ],
   "source": [
    "plaintext = f[\"plaintext\"]\n",
    "# stored as int32 due to acting as a tensor of keys for s_box_tensor\n",
    "plaintext = torch.tensor(plaintext, dtype=torch.int32)\n",
    "plaintext.shape, plaintext"
   ]
  },
  {
   "cell_type": "code",
   "execution_count": 5,
   "id": "51c4c029",
   "metadata": {},
   "outputs": [
    {
     "data": {
      "text/plain": [
       "array([[205, 189, 160, ..., 173, 177, 192],\n",
       "       [189, 180, 150, ..., 199, 177, 179],\n",
       "       [174, 188, 176, ..., 167, 202, 170],\n",
       "       ...,\n",
       "       [164, 178, 189, ..., 209, 194, 185],\n",
       "       [165, 175, 183, ..., 191, 168, 186],\n",
       "       [171, 175, 192, ..., 202, 168, 177]],\n",
       "      shape=(3500, 50000), dtype=uint8)"
      ]
     },
     "execution_count": 5,
     "metadata": {},
     "output_type": "execute_result"
    }
   ],
   "source": [
    "traces = f[\"CompressedTraces\"]\n",
    "traces"
   ]
  },
  {
   "cell_type": "markdown",
   "id": "532d4203",
   "metadata": {},
   "source": [
    "The traces are compressed, containing only the peak sample for each cpu clock cycle, covering \"at least the first non-dummy AES round\""
   ]
  },
  {
   "cell_type": "code",
   "execution_count": 6,
   "id": "3cd3980c",
   "metadata": {},
   "outputs": [],
   "source": [
    "traces = traces.T\n",
    "traces = torch.tensor(traces, dtype=ftype)\n",
    "traces_centered = traces - traces.mean(dim=0)\n",
    "traces_std = traces.std(dim=0)"
   ]
  },
  {
   "cell_type": "code",
   "execution_count": null,
   "id": "8a92c7d5",
   "metadata": {},
   "outputs": [],
   "source": [
    "def correlate_traces(plaintext: torch.tensor,\n",
    "                     traces_centered: torch.tensor,\n",
    "                     traces_std: torch.tensor):\n",
    "    \"\"\"\n",
    "    Computes Pearson's R correlation between hamming weights of sbox output for\n",
    "    each key hypothesis, and traces for each of 256 key hypotheses.\n",
    "\n",
    "    Correlation is computed as Pearson's r, based on formula:\n",
    "    correlation = E[(iv - mean(iv)) (trace - mean(trace))]\n",
    "                  / ( std(iv) * std(trace))\n",
    "\n",
    "    Using vectorized computation, this is performed as\n",
    "    correlation = dot_product((iv - mean(iv), (trace - mean(trace))\n",
    "                  / ( len(iv) * std(iv) * std(trace))\n",
    "\n",
    "    Performance increase is gained by using precomputed traces_centered as well\n",
    "    as traces_std. \n",
    "\n",
    "    Assumes\n",
    "    - i = amount of traces\n",
    "    - j = amount of samples per trace\n",
    "    :plaintexts: tensor of the specific byte of plaintext, shaped (i, 1)\n",
    "    :traces_centered: precomputed traces - traces.mean(axis=0), shaped (i, j)\n",
    "    :traces_std: precomputed traces.std(axis=0) shaped (j,)\n",
    "\n",
    "    :returns: array of correlations shaped (256, j)\n",
    "    \"\"\"\n",
    "    I = plaintext.shape[0]\n",
    "    iv = torch.zeros((256, I), dtype=ftype)\n",
    "    for key_hypothesis in range(256):\n",
    "        # Sbox(key_hypothesis ^ plaintext)\n",
    "        xor = key_hypothesis ^ plaintext\n",
    "        switch = torch.index_select(s_box_tensor, 0, xor)\n",
    "        \n",
    "        # hamming weight of sbox output\n",
    "        weights = torch.index_select(hamming_weight, 0, switch)\n",
    "        iv[key_hypothesis] = weights\n",
    "\n",
    "    iv_centered = iv - iv.mean(dim=1, keepdim=True)\n",
    "    iv_std = iv.std(dim=1, keepdim=True)\n",
    "\n",
    "    # (iv - iv.mean()) * (traces - traces.mean(dim=0))\n",
    "    nom = torch.matmul(iv_centered, traces_centered)\n",
    "    # iv.std() * traces.std() * amount of traces I\n",
    "    denom = iv_std * traces_std * I\n",
    "    return nom / denom\n"
   ]
  },
  {
   "cell_type": "code",
   "execution_count": 8,
   "id": "9d6696a4",
   "metadata": {},
   "outputs": [],
   "source": [
    "corrs = torch.zeros((16, 256, traces.shape[1]), dtype=ftype)\n",
    "for byte in range(16):\n",
    "    key_corrs = correlate_traces(plaintext[:, byte], traces_centered, traces_std)\n",
    "    corrs[byte, :, :] = key_corrs"
   ]
  },
  {
   "cell_type": "markdown",
   "id": "5e6a4463",
   "metadata": {},
   "source": [
    "We work with absolute values, as the direction of correlation does not matter"
   ]
  },
  {
   "cell_type": "code",
   "execution_count": 9,
   "id": "be547b04",
   "metadata": {},
   "outputs": [],
   "source": [
    "abscorr = corrs.abs()\n",
    "# maximum correlation of each key hypotesis, with sample index\n",
    "hypo_max_correlation, hypo_time_index = abscorr.max(dim=2)\n",
    "# maximum correlation of byte, along corresponding key hypothesis\n",
    "byte_max_correlation, byte_guess = hypo_max_correlation.max(dim=1)"
   ]
  },
  {
   "cell_type": "markdown",
   "id": "a197e92a",
   "metadata": {},
   "source": [
    "We can see correlation for 0-th key is barely higher than for other hypotheses."
   ]
  },
  {
   "cell_type": "code",
   "execution_count": 10,
   "id": "593121fa",
   "metadata": {},
   "outputs": [],
   "source": [
    "def check_byte(byte_index, correct_key):\n",
    "    print(f\"{i:2}-th byte hypothesis {byte_guess[byte_index]:3} has largest correlation {byte_max_correlation[byte_index]:.5f}\", end='')\n",
    "    if correct_key != byte_guess[byte_index]:\n",
    "        print(f\"; key is {correct_key:3} with {hypo_max_correlation[byte_index][correct_key]:.5f}\")\n",
    "    else:\n",
    "        print(\" is correct\")\n",
    "            "
   ]
  },
  {
   "cell_type": "code",
   "execution_count": 11,
   "id": "05fd06d3",
   "metadata": {},
   "outputs": [
    {
     "name": "stdout",
     "output_type": "stream",
     "text": [
      " 0-th byte hypothesis  43 has largest correlation 0.02478 is correct\n",
      " 1-th byte hypothesis  37 has largest correlation 0.02120; key is 126 with 0.01644\n",
      " 2-th byte hypothesis  47 has largest correlation 0.02387; key is  21 with 0.02134\n",
      " 3-th byte hypothesis 124 has largest correlation 0.02079; key is  22 with 0.01761\n",
      " 4-th byte hypothesis 211 has largest correlation 0.02283; key is  40 with 0.01794\n",
      " 5-th byte hypothesis  77 has largest correlation 0.02353; key is 174 with 0.02051\n",
      " 6-th byte hypothesis 196 has largest correlation 0.02037; key is 210 with 0.01648\n",
      " 7-th byte hypothesis 171 has largest correlation 0.02146; key is 166 with 0.01676\n",
      " 8-th byte hypothesis 184 has largest correlation 0.02077; key is 171 with 0.01802\n",
      " 9-th byte hypothesis 186 has largest correlation 0.02028; key is 247 with 0.01533\n",
      "10-th byte hypothesis 200 has largest correlation 0.02394; key is  21 with 0.01572\n",
      "11-th byte hypothesis 109 has largest correlation 0.02433; key is 136 with 0.01651\n",
      "12-th byte hypothesis 109 has largest correlation 0.02182; key is   9 with 0.01929\n",
      "13-th byte hypothesis 112 has largest correlation 0.02344; key is 207 with 0.01763\n",
      "14-th byte hypothesis  35 has largest correlation 0.02134; key is  79 with 0.01945\n",
      "15-th byte hypothesis  85 has largest correlation 0.02496; key is  60 with 0.02005\n"
     ]
    }
   ],
   "source": [
    "for i in range(16):\n",
    "    check_byte(i, key[i])"
   ]
  },
  {
   "cell_type": "markdown",
   "id": "fe163ff9",
   "metadata": {},
   "source": [
    "It appears that correlations were low across the board. We only managed to recover 0-th key byte, however even there the correlation was low. peaking on at 0.2496 for 15-th key byte. The graph shows only noise."
   ]
  },
  {
   "cell_type": "code",
   "execution_count": 12,
   "id": "aef9ed40",
   "metadata": {},
   "outputs": [],
   "source": [
    "def graph_correlation(byte_index):\n",
    "    correct_key_byte = key[byte_index]\n",
    "    array = corrs[byte_index]\n",
    "    for i in range(256):\n",
    "        if i == correct_key_byte:\n",
    "            color = \"green\"\n",
    "        else:\n",
    "            color = \"gray\"\n",
    "        plt.plot(array[i], color=color)\n"
   ]
  },
  {
   "cell_type": "code",
   "execution_count": 13,
   "id": "6c84dc90",
   "metadata": {},
   "outputs": [
    {
     "data": {
      "image/png": "[encoded data removed]",
      "text/plain": [
       "<Figure size 640x480 with 1 Axes>"
      ]
     },
     "metadata": {},
     "output_type": "display_data"
    }
   ],
   "source": [
    "graph_correlation(0)"
   ]
  },
  {
   "cell_type": "markdown",
   "id": "53cd8e93",
   "metadata": {},
   "source": [
    "Correlation for correct key byte 0 was barely higher than other hypotheses."
   ]
  },
  {
   "cell_type": "code",
   "execution_count": 14,
   "id": "08d62bb3",
   "metadata": {},
   "outputs": [
    {
     "data": {
      "image/png": "[encoded data removed]",
      "text/plain": [
       "<Figure size 640x480 with 1 Axes>"
      ]
     },
     "metadata": {},
     "output_type": "display_data"
    }
   ],
   "source": [
    "graph_correlation(15)"
   ]
  }
 ],
 "metadata": {
  "kernelspec": {
   "display_name": ".venv",
   "language": "python",
   "name": "python3"
  },
  "language_info": {
   "codemirror_mode": {
    "name": "ipython",
    "version": 3
   },
   "file_extension": ".py",
   "mimetype": "text/x-python",
   "name": "python",
   "nbconvert_exporter": "python",
   "pygments_lexer": "ipython3",
   "version": "3.13.2"
  }
 },
 "nbformat": 4,
 "nbformat_minor": 5
}
