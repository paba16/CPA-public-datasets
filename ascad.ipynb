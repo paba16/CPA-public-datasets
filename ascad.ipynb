{
 "cells": [
  {
   "cell_type": "code",
   "execution_count": null,
   "id": "b90f642d",
   "metadata": {},
   "outputs": [],
   "source": [
    "import h5py\n",
    "import numpy as np\n",
    "import torch\n",
    "import logging\n",
    "import time\n",
    "import matplotlib.pyplot as plt\n",
    "\n",
    "ftype = torch.float32\n",
    "logging.basicConfig(level=logging.INFO)\n",
    "logger = logging.getLogger(__name__)"
   ]
  },
  {
   "cell_type": "code",
   "execution_count": 2,
   "id": "9e0d8a88",
   "metadata": {},
   "outputs": [],
   "source": [
    "s_box = [\n",
    "    0x63, 0x7c, 0x77, 0x7b, 0xf2, 0x6b, 0x6f, 0xc5, 0x30, 0x01, 0x67, 0x2b, 0xfe, 0xd7, 0xab, 0x76,\n",
    "    0xca, 0x82, 0xc9, 0x7d, 0xfa, 0x59, 0x47, 0xf0, 0xad, 0xd4, 0xa2, 0xaf, 0x9c, 0xa4, 0x72, 0xc0,\n",
    "    0xb7, 0xfd, 0x93, 0x26, 0x36, 0x3f, 0xf7, 0xcc, 0x34, 0xa5, 0xe5, 0xf1, 0x71, 0xd8, 0x31, 0x15,\n",
    "    0x04, 0xc7, 0x23, 0xc3, 0x18, 0x96, 0x05, 0x9a, 0x07, 0x12, 0x80, 0xe2, 0xeb, 0x27, 0xb2, 0x75,\n",
    "    0x09, 0x83, 0x2c, 0x1a, 0x1b, 0x6e, 0x5a, 0xa0, 0x52, 0x3b, 0xd6, 0xb3, 0x29, 0xe3, 0x2f, 0x84,\n",
    "    0x53, 0xd1, 0x00, 0xed, 0x20, 0xfc, 0xb1, 0x5b, 0x6a, 0xcb, 0xbe, 0x39, 0x4a, 0x4c, 0x58, 0xcf,\n",
    "    0xd0, 0xef, 0xaa, 0xfb, 0x43, 0x4d, 0x33, 0x85, 0x45, 0xf9, 0x02, 0x7f, 0x50, 0x3c, 0x9f, 0xa8,\n",
    "    0x51, 0xa3, 0x40, 0x8f, 0x92, 0x9d, 0x38, 0xf5, 0xbc, 0xb6, 0xda, 0x21, 0x10, 0xff, 0xf3, 0xd2,\n",
    "    0xcd, 0x0c, 0x13, 0xec, 0x5f, 0x97, 0x44, 0x17, 0xc4, 0xa7, 0x7e, 0x3d, 0x64, 0x5d, 0x19, 0x73,\n",
    "    0x60, 0x81, 0x4f, 0xdc, 0x22, 0x2a, 0x90, 0x88, 0x46, 0xee, 0xb8, 0x14, 0xde, 0x5e, 0x0b, 0xdb,\n",
    "    0xe0, 0x32, 0x3a, 0x0a, 0x49, 0x06, 0x24, 0x5c, 0xc2, 0xd3, 0xac, 0x62, 0x91, 0x95, 0xe4, 0x79,\n",
    "    0xe7, 0xc8, 0x37, 0x6d, 0x8d, 0xd5, 0x4e, 0xa9, 0x6c, 0x56, 0xf4, 0xea, 0x65, 0x7a, 0xae, 0x08,\n",
    "    0xba, 0x78, 0x25, 0x2e, 0x1c, 0xa6, 0xb4, 0xc6, 0xe8, 0xdd, 0x74, 0x1f, 0x4b, 0xbd, 0x8b, 0x8a,\n",
    "    0x70, 0x3e, 0xb5, 0x66, 0x48, 0x03, 0xf6, 0x0e, 0x61, 0x35, 0x57, 0xb9, 0x86, 0xc1, 0x1d, 0x9e,\n",
    "    0xe1, 0xf8, 0x98, 0x11, 0x69, 0xd9, 0x8e, 0x94, 0x9b, 0x1e, 0x87, 0xe9, 0xce, 0x55, 0x28, 0xdf,\n",
    "    0x8c, 0xa1, 0x89, 0x0d, 0xbf, 0xe6, 0x42, 0x68, 0x41, 0x99, 0x2d, 0x0f, 0xb0, 0x54, 0xbb, 0x16\n",
    "]\n",
    "s_box_tensor = torch.tensor(s_box, dtype=torch.int32)\n",
    "hamming_weight = torch.tensor([np.bitwise_count(i) for i in range(256)], dtype=ftype)"
   ]
  },
  {
   "cell_type": "markdown",
   "id": "b925c748",
   "metadata": {},
   "source": [
    "Dataset from:\n",
    "https://github.com/ANSSI-FR/ASCAD/tree/master/STM32_AES_v2"
   ]
  },
  {
   "cell_type": "code",
   "execution_count": 3,
   "id": "41023532",
   "metadata": {},
   "outputs": [
    {
     "data": {
      "text/plain": [
       "<KeysViewHDF5 ['metadata', 'traces']>"
      ]
     },
     "execution_count": 3,
     "metadata": {},
     "output_type": "execute_result"
    }
   ],
   "source": [
    "file_path = \"ASCAD_databases/ATMega8515_raw_traces.h5\"\n",
    "f = h5py.File(file_path)\n",
    "f.keys()"
   ]
  },
  {
   "cell_type": "code",
   "execution_count": 4,
   "id": "4628f7d5",
   "metadata": {},
   "outputs": [
    {
     "data": {
      "text/plain": [
       "dtype([('plaintext', 'u1', (16,)), ('ciphertext', 'u1', (16,)), ('key', 'u1', (16,)), ('masks', 'u1', (16,))])"
      ]
     },
     "execution_count": 4,
     "metadata": {},
     "output_type": "execute_result"
    }
   ],
   "source": [
    "f[\"metadata\"].dtype"
   ]
  },
  {
   "cell_type": "markdown",
   "id": "456524ee",
   "metadata": {},
   "source": [
    "From metadata we'll use plaintext for CPA, and key to verify our results. We won't be using the masks, that are used to obfuscate sbox output."
   ]
  },
  {
   "cell_type": "code",
   "execution_count": null,
   "id": "63883a23",
   "metadata": {},
   "outputs": [
    {
     "data": {
      "text/plain": [
       "np.True_"
      ]
     },
     "execution_count": 5,
     "metadata": {},
     "output_type": "execute_result"
    }
   ],
   "source": [
    "key = f[\"metadata\"][\"key\"]\n",
    "#\n",
    "np.all(key[0] == key)"
   ]
  },
  {
   "cell_type": "markdown",
   "id": "386b61b2",
   "metadata": {},
   "source": [
    "Since all traces used the same key, and we have both plaintext and traces we can perform an SCA attack. This file is quite large at 5.59GB; correlations will be computed over trace slices"
   ]
  },
  {
   "cell_type": "code",
   "execution_count": null,
   "id": "0ddc288d",
   "metadata": {},
   "outputs": [],
   "source": [
    "def correlate_traces(plaintext: torch.tensor,\n",
    "                     traces_centered: torch.tensor,\n",
    "                     traces_std: torch.tensor):\n",
    "    \"\"\"\n",
    "    Computes Pearson's R correlation between hamming weights of sbox output for\n",
    "    each key hypothesis, and traces for each of 256 key hypotheses.\n",
    "\n",
    "    Correlation is computed as Pearson's r, based on formula:\n",
    "    correlation = E[(iv - mean(iv)) (trace - mean(trace))]\n",
    "                  / ( std(iv) * std(trace))\n",
    "\n",
    "    Using vectorized computation, this is performed as\n",
    "    correlation = dot_product((iv - mean(iv), (trace - mean(trace))\n",
    "                  / ( len(iv) * std(iv) * std(trace))\n",
    "\n",
    "    Performance increase is gained by using precomputed traces_centered as well\n",
    "    as traces_std. \n",
    "\n",
    "    Assumes\n",
    "    - i = amount of traces\n",
    "    - j = amount of samples per trace\n",
    "    :plaintexts: tensor of the specific byte of plaintext, shaped (i, 1)\n",
    "    :traces_centered: precomputed traces - traces.mean(axis=0), shaped (i, j)\n",
    "    :traces_std: precomputed traces.std(axis=0) shaped (j,)\n",
    "\n",
    "    :returns: array of correlations shaped (256, j)\n",
    "    \"\"\"\n",
    "    I = plaintext.shape[0]\n",
    "    iv = torch.zeros((256, I), dtype=ftype)\n",
    "    for key_hypothesis in range(256):\n",
    "        # Sbox(key_hypothesis ^ plaintext)\n",
    "        xor = key_hypothesis ^ plaintext\n",
    "        switch = torch.index_select(s_box_tensor, 0, xor)\n",
    "        \n",
    "        # hamming weight of sbox output\n",
    "        weights = torch.index_select(hamming_weight, 0, switch)\n",
    "        iv[key_hypothesis] = weights\n",
    "\n",
    "    iv_centered = iv - iv.mean(dim=1, keepdim=True)\n",
    "    iv_std = iv.std(dim=1, keepdim=True)\n",
    "\n",
    "    # (iv - iv.mean()) * (traces - traces.mean(dim=0))\n",
    "    nom = torch.matmul(iv_centered, traces_centered)\n",
    "    # iv.std() * traces.std() * amount of traces I\n",
    "    denom = iv_std * traces_std * I\n",
    "    return nom / denom\n"
   ]
  },
  {
   "cell_type": "code",
   "execution_count": 7,
   "id": "6ec0dacd",
   "metadata": {},
   "outputs": [],
   "source": [
    "epochs = 8\n",
    "with h5py.File(file_path) as f:\n",
    "    plaintext = f[\"metadata\"][\"plaintext\"]\n",
    "    plaintext = torch.tensor(plaintext, dtype=torch.int32)\n",
    "\n",
    "    traces_shape = f[\"traces\"].shape\n",
    "    step = traces_shape[1] // epochs"
   ]
  },
  {
   "cell_type": "code",
   "execution_count": 8,
   "id": "20631115",
   "metadata": {},
   "outputs": [
    {
     "name": "stderr",
     "output_type": "stream",
     "text": [
      "INFO:__main__:epoch 0 loaded in 14.52\n",
      "INFO:__main__:epoch 0 computed in 6.40\n",
      "INFO:__main__:epoch 1 loaded in 15.23\n",
      "INFO:__main__:epoch 1 computed in 6.12\n",
      "INFO:__main__:epoch 2 loaded in 16.43\n",
      "INFO:__main__:epoch 2 computed in 6.06\n",
      "INFO:__main__:epoch 3 loaded in 13.76\n",
      "INFO:__main__:epoch 3 computed in 6.11\n",
      "INFO:__main__:epoch 4 loaded in 13.34\n",
      "INFO:__main__:epoch 4 computed in 6.27\n",
      "INFO:__main__:epoch 5 loaded in 17.36\n",
      "INFO:__main__:epoch 5 computed in 6.49\n",
      "INFO:__main__:epoch 6 loaded in 13.43\n",
      "INFO:__main__:epoch 6 computed in 5.97\n",
      "INFO:__main__:epoch 7 loaded in 14.01\n",
      "INFO:__main__:epoch 7 computed in 6.03\n"
     ]
    }
   ],
   "source": [
    "corrs = torch.zeros((16, 256, traces_shape[1]), dtype=ftype)\n",
    "# perform CPA for each key byte over trace splices \n",
    "\n",
    "with h5py.File(file_path, rdcc_nbytes=2^18) as f:\n",
    "    for i in range(epochs):\n",
    "        start_time = time.time()\n",
    "        # prepare another batch of traces\n",
    "        traces = f[\"traces\"][:, step * i: step * (i + 1)]\n",
    "        traces = torch.tensor(traces, dtype=ftype)\n",
    "        traces_centered = traces - traces.mean(dim=0)\n",
    "        traces_std = traces.std(dim=0)\n",
    "        del traces\n",
    "        logger.info(f\"epoch {i} loaded in {time.time() - start_time:.2f}\")\n",
    "\n",
    "        start_time = time.time()\n",
    "        # compute correlations\n",
    "        for key_byte in range(16):\n",
    "            epoch_correlations = correlate_traces(plaintext[:, key_byte], traces_centered, traces_std)\n",
    "            corrs[key_byte, :, step*i: step*(i+1)] = epoch_correlations\n",
    "        logger.info(f\"epoch {i} computed in {time.time() - start_time:.2f}\")\n",
    "\n",
    "del traces_centered"
   ]
  },
  {
   "cell_type": "markdown",
   "id": "5d4e5ee6",
   "metadata": {},
   "source": [
    "We work with absolute values, as the direction of correlation does not matter"
   ]
  },
  {
   "cell_type": "code",
   "execution_count": 15,
   "id": "7a9deaca",
   "metadata": {},
   "outputs": [],
   "source": [
    "abscorr = corrs.abs()\n",
    "# maximum correlation of each key hypotesis, with sample index\n",
    "hypo_max_correlation, hypo_time_index = abscorr.max(dim=2)\n",
    "# maximum correlation of byte, along corresponding key hypothesis\n",
    "byte_max_correlation, byte_guess = hypo_max_correlation.max(dim=1)"
   ]
  },
  {
   "cell_type": "code",
   "execution_count": 12,
   "id": "0420468a",
   "metadata": {},
   "outputs": [],
   "source": [
    "def check_byte(byte_index, correct_key):\n",
    "    print(f\"{i:2}-th byte hypothesis {byte_guess[byte_index]:3} has largest correlation {byte_max_correlation[byte_index]:.5f}\", end='')\n",
    "    if correct_key == byte_guess[byte_index]:\n",
    "        print(\" is correct\")\n",
    "    else:\n",
    "        print(f\"; key is {correct_key:3} with {hypo_max_correlation[byte_index][correct_key]:.5f}\")\n",
    "            "
   ]
  },
  {
   "cell_type": "code",
   "execution_count": 13,
   "id": "f8e94990",
   "metadata": {},
   "outputs": [
    {
     "name": "stdout",
     "output_type": "stream",
     "text": [
      " 0-th byte hypothesis  77 has largest correlation 0.91595 is correct\n",
      " 1-th byte hypothesis 251 has largest correlation 0.91053 is correct\n",
      " 2-th byte hypothesis 224 has largest correlation 0.03746 is correct\n",
      " 3-th byte hypothesis 242 has largest correlation 0.04449 is correct\n",
      " 4-th byte hypothesis 114 has largest correlation 0.03780 is correct\n",
      " 5-th byte hypothesis  33 has largest correlation 0.10844 is correct\n",
      " 6-th byte hypothesis 254 has largest correlation 0.03648 is correct\n",
      " 7-th byte hypothesis  16 has largest correlation 0.03251 is correct\n",
      " 8-th byte hypothesis   4 has largest correlation 0.02074; key is 167 with 0.01677\n",
      " 9-th byte hypothesis 141 has largest correlation 0.03918 is correct\n",
      "10-th byte hypothesis 240 has largest correlation 0.02133; key is  74 with 0.01690\n",
      "11-th byte hypothesis 220 has largest correlation 0.03323 is correct\n",
      "12-th byte hypothesis 225 has largest correlation 0.02158; key is 142 with 0.01638\n",
      "13-th byte hypothesis  57 has largest correlation 0.02258; key is  73 with 0.01395\n",
      "14-th byte hypothesis   4 has largest correlation 0.02497 is correct\n",
      "15-th byte hypothesis 255 has largest correlation 0.02222; key is 105 with 0.01487\n"
     ]
    }
   ],
   "source": [
    "for i in range(16):\n",
    "    check_byte(i, key_hypothesis[0, i])"
   ]
  },
  {
   "cell_type": "markdown",
   "id": "3daecb8e",
   "metadata": {},
   "source": [
    "Our attack succesfully recovered 11 out of 16 key bytes with high correlations on many gueses."
   ]
  },
  {
   "cell_type": "code",
   "execution_count": null,
   "id": "a8fe844b",
   "metadata": {},
   "outputs": [],
   "source": [
    "def graph_correlation(byte_index):\n",
    "    correct_key_byte = key_hypothesis[0, byte_index]\n",
    "    array = corrs[byte_index]\n",
    "    for i in range(256):\n",
    "        if i == correct_key_byte:\n",
    "            color = \"green\"\n",
    "        else:\n",
    "            color = \"gray\"\n",
    "        plt.plot(array[i], color=color)"
   ]
  },
  {
   "cell_type": "code",
   "execution_count": null,
   "id": "89fb439f",
   "metadata": {},
   "outputs": [
    {
     "data": {
      "image/png": "[encoded data removed]",
      "text/plain": [
       "<Figure size 640x480 with 1 Axes>"
      ]
     },
     "metadata": {},
     "output_type": "display_data"
    }
   ],
   "source": [
    "graph_correlation(0)"
   ]
  },
  {
   "cell_type": "markdown",
   "id": "519a557d",
   "metadata": {},
   "source": [
    "Correlation for correct key byte 0 hypothesis spiked 3 times."
   ]
  },
  {
   "cell_type": "code",
   "execution_count": 14,
   "id": "39f39b1f",
   "metadata": {},
   "outputs": [
    {
     "data": {
      "image/png": "[encoded data removed]",
      "text/plain": [
       "<Figure size 640x480 with 1 Axes>"
      ]
     },
     "metadata": {},
     "output_type": "display_data"
    }
   ],
   "source": [
    "graph_correlation(8)"
   ]
  },
  {
   "cell_type": "markdown",
   "id": "6f74c244",
   "metadata": {},
   "source": [
    "Hypotheses for 8-th key byte were low, peaking around 0.02"
   ]
  }
 ],
 "metadata": {
  "kernelspec": {
   "display_name": ".venv",
   "language": "python",
   "name": "python3"
  },
  "language_info": {
   "codemirror_mode": {
    "name": "ipython",
    "version": 3
   },
   "file_extension": ".py",
   "mimetype": "text/x-python",
   "name": "python",
   "nbconvert_exporter": "python",
   "pygments_lexer": "ipython3",
   "version": "3.13.2"
  }
 },
 "nbformat": 4,
 "nbformat_minor": 5
}
